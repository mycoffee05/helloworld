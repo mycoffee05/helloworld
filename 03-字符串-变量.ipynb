{
 "cells": [
  {
   "cell_type": "code",
   "execution_count": 2,
   "metadata": {},
   "outputs": [
    {
     "name": "stdout",
     "output_type": "stream",
     "text": [
      "hello\n"
     ]
    }
   ],
   "source": [
    "print ('hello')"
   ]
  },
  {
   "cell_type": "markdown",
   "metadata": {},
   "source": [
    "# 字符串\n",
    "- 转义\n",
    "- 格式化\n",
    "- 内建函数（后证）\n",
    "## 转移字符\n",
    "- 用一个特殊的方法表示一系列不方便写出的内容，比如回车、空格、换行\n",
    "- 反斜杠字符/，转义,/r/n换行\n",
    "- 不同系统对回车换行不同\n",
    "    -windows:/n\n",
    "    -linux:/n/r\n"
   ]
  },
  {
   "cell_type": "code",
   "execution_count": 3,
   "metadata": {},
   "outputs": [
    {
     "name": "stdout",
     "output_type": "stream",
     "text": [
      "i love lixiaojing\n"
     ]
    }
   ],
   "source": [
    "s=\"i love lixiaojing\"\n",
    "print(s)"
   ]
  },
  {
   "cell_type": "code",
   "execution_count": 9,
   "metadata": {
    "scrolled": false
   },
   "outputs": [
    {
     "name": "stdout",
     "output_type": "stream",
     "text": [
      "let's go\n",
      "c:\\user\n",
      "i love \r\n",
      " wangxiaojing\n"
     ]
    }
   ],
   "source": [
    "#1，嵌套引导，\n",
    "#2,转义字符 \\\\表示\n",
    "s=\"let's go\"\n",
    "print(s)\n",
    "#\\\\=\\\n",
    "ss=\"c:\\\\user\"\n",
    "print(ss)\n",
    "#回车换行\n",
    "s1=\"i love \\r\\n wangxiaojing\"\n",
    "print(s1)"
   ]
  },
  {
   "cell_type": "markdown",
   "metadata": {},
   "source": [
    "- 字符串的格式化\n",
    "    把字符串按照一定格式打印或者填充\n",
    "    ##在字符串%格式化\n",
    "%d:此处应该放入一个整数\n",
    "%s:表示此处应该放入一个字符串"
   ]
  },
  {
   "cell_type": "code",
   "execution_count": 12,
   "metadata": {},
   "outputs": [
    {
     "name": "stdout",
     "output_type": "stream",
     "text": [
      "I love %s\n"
     ]
    }
   ],
   "source": [
    "s=\"I love %s\"\n",
    "#%没变化\n",
    "print(s)"
   ]
  },
  {
   "cell_type": "markdown",
   "metadata": {},
   "source": [
    "print(\"I love %s\"%\"wangxiaojing\")"
   ]
  },
  {
   "cell_type": "code",
   "execution_count": null,
   "metadata": {},
   "outputs": [],
   "source": [
    "print(s%\"wangxiaojing\")"
   ]
  },
  {
   "cell_type": "code",
   "execution_count": 23,
   "metadata": {},
   "outputs": [
    {
     "name": "stdout",
     "output_type": "stream",
     "text": [
      "i am %d years old\n",
      "i am 16 years old\n"
     ]
    }
   ],
   "source": [
    "s=\"i am %d years old\"\n",
    "print(s)\n",
    "print(s%16)"
   ]
  },
  {
   "cell_type": "code",
   "execution_count": 29,
   "metadata": {},
   "outputs": [
    {
     "name": "stdout",
     "output_type": "stream",
     "text": [
      "i am %s,i am %d years old\n",
      "i am dshang,i am 15 years old\n"
     ]
    }
   ],
   "source": [
    "s=\"i am %s,i am %d years old\"\n",
    "print(s)\n",
    "#坑必须填满\n",
    "print(s%(\"dshang\",15))"
   ]
  },
  {
   "cell_type": "code",
   "execution_count": null,
   "metadata": {},
   "outputs": [],
   "source": [
    "#format函数格式化字符串\n",
    "-直接用format函数进行格式化\n",
    "-在使用上，以{}和:代替%,后面有一个format函数"
   ]
  },
  {
   "cell_type": "code",
   "execution_count": 36,
   "metadata": {},
   "outputs": [
    {
     "name": "stdout",
     "output_type": "stream",
     "text": [
      "i love lix\n",
      "yes i am18,i love shang,i am 18years old\n"
     ]
    }
   ],
   "source": [
    "s=\"i love {}\".format(\"lix\")\n",
    "print(s)\n",
    "s=\"yes i am{1},i love {0},i am {1}years old\".format(\"shang\",18)\n",
    "print(s)"
   ]
  },
  {
   "cell_type": "markdown",
   "metadata": {},
   "source": [
    "## None\n",
    " - 什么都没有\n",
    " - 如果函数没有返回值，可以返回None\n",
    " - 用来占位置\n",
    " - 用来解除变量绑定"
   ]
  },
  {
   "cell_type": "markdown",
   "metadata": {},
   "source": [
    "# 表达式\n",
    "- 由一个或者几个数字或者变量和运算符组合成的一段代码\n",
    "- 通常会返回一个结果\n",
    "# 运算符\n",
    "- 由一个以上的值经过变化得到新值的过程\n",
    "- 运算符分类：\n",
    "    - 算数运算符\n",
    "    - 比较或者关系运算符\n",
    "    - 赋值运算符\n",
    "    - 逻辑运算\n",
    "    - 位运算\n",
    "    - 成员运算符\n",
    "    - 身份运算符"
   ]
  },
  {
   "cell_type": "markdown",
   "metadata": {},
   "source": [
    "## 算术运算符\n",
    " - 进行算术运算的符号\n",
    " - python没有自增减运算符\n",
    " "
   ]
  },
  {
   "cell_type": "code",
   "execution_count": 44,
   "metadata": {},
   "outputs": [
    {
     "name": "stdout",
     "output_type": "stream",
     "text": [
      "10\n",
      "36\n",
      "2.25\n",
      "1\n",
      "2\n",
      "6561\n",
      "27\n"
     ]
    }
   ],
   "source": [
    "# +，—一致\n",
    "# *乘号\n",
    "# /除号\n",
    "a = 9+3-2\n",
    "print(a)\n",
    "a=9*4\n",
    "print(a)\n",
    "a=9/4\n",
    "#python2.X和python3.x，除号不一致，以3为准\n",
    "print(a)\n",
    "\n",
    "#取余运算%\n",
    "#除法%只取余数\n",
    "a=9%4\n",
    "print(a)\n",
    "#取整运算//，也叫地板除\n",
    "a=9//4\n",
    "print(a)\n",
    "#幂运算**\n",
    "a=9**4\n",
    "print(a)\n",
    "a=3**3\n",
    "print(a)"
   ]
  },
  {
   "cell_type": "markdown",
   "metadata": {},
   "source": [
    "## 比较运算符\n",
    "- 对两个变量或者值进行比较运算\n",
    "- 比较的结果是布尔值，即T/F"
   ]
  },
  {
   "cell_type": "code",
   "execution_count": 47,
   "metadata": {
    "scrolled": true
   },
   "outputs": [
    {
     "name": "stdout",
     "output_type": "stream",
     "text": [
      "True\n",
      "True\n"
     ]
    }
   ],
   "source": [
    "# ==，等于号\n",
    "a=3**4\n",
    "#下面语句执行顺序是\n",
    "#1，计算a==80\n",
    "#2，把结果放入b中\n",
    "b=a==81\n",
    "print(b)\n",
    "\n",
    "# != 不等于\n",
    "print(9!=8)\n",
    "# <小于>大于 >=大于等于 <=小于等于\n"
   ]
  },
  {
   "cell_type": "markdown",
   "metadata": {},
   "source": [
    "## 赋值运算符\n"
   ]
  },
  {
   "cell_type": "code",
   "execution_count": 52,
   "metadata": {},
   "outputs": [
    {
     "name": "stdout",
     "output_type": "stream",
     "text": [
      "7\n"
     ]
    }
   ],
   "source": [
    "# =，赋值\n",
    "# +=,是缩写\n",
    "a = 0\n",
    "a += 7 #a=a+7的缩写\n",
    "print(a)\n",
    "\n",
    "# -= *= /= //= %= **= 都是缩写"
   ]
  },
  {
   "cell_type": "markdown",
   "metadata": {},
   "source": [
    "## 逻辑运算符\n",
    "- 对布尔值进行计算的符号\n",
    "- and 逻辑与\n",
    "- or 逻辑或\n",
    "- not 逻辑非\n",
    "- python中逻辑运算没有异或运算\n",
    "- 运算规则：\n",
    "    - and 看作乘法，or看作加法\n",
    "    - True看作1，False看作0\n",
    "    - 则逻辑运算就能转换成整数数学运算\n",
    "    - 结果为0则为False,否则为True\n",
    "- 逻辑运算的短路问题\n",
    "    - 逻辑运算式，按照运算顺序计算，一旦能够确定整个式子未来的值，则不再进行计算，直接返回"
   ]
  },
  {
   "cell_type": "code",
   "execution_count": 54,
   "metadata": {},
   "outputs": [
    {
     "name": "stdout",
     "output_type": "stream",
     "text": [
      "True\n",
      "True\n"
     ]
    }
   ],
   "source": [
    "# 逻辑运算符案例\n",
    "a = True\n",
    "b = False\n",
    "c = True\n",
    "\n",
    "#以下式子等价于d=1*0+1\n",
    "d = a and b or c\n",
    "print(d)\n",
    "\n",
    "d=a or b and a\n",
    "print(d)"
   ]
  },
  {
   "cell_type": "code",
   "execution_count": 59,
   "metadata": {},
   "outputs": [
    {
     "ename": "SyntaxError",
     "evalue": "invalid syntax (<ipython-input-59-dc7291abf0a2>, line 8)",
     "traceback": [
      "\u001b[0;36m  File \u001b[0;32m\"<ipython-input-59-dc7291abf0a2>\"\u001b[0;36m, line \u001b[0;32m8\u001b[0m\n\u001b[0;31m    a=a or (b=9) and 6\u001b[0m\n\u001b[0m             ^\u001b[0m\n\u001b[0;31mSyntaxError\u001b[0m\u001b[0;31m:\u001b[0m invalid syntax\n"
     ],
     "output_type": "error"
    }
   ],
   "source": [
    "# 逻辑运算式短路示例\n",
    "\n",
    "#下逻辑运算式，a的值一定是True,则运行到or的时候，表达式不再计算\n",
    "a = True or xxxxxx\n",
    "\n",
    "#下表达式，如果xxx中包含赋值表达式，则结果很难预期\n",
    "#代码示例（伪代码）\n",
    "b=9\n",
    "a=a or (b=9) and 6\n",
    "# 假定无错\n",
    "# 则b最终的值应该是0而不是9\n",
    "print(b)\n",
    "print(a)"
   ]
  },
  {
   "cell_type": "markdown",
   "metadata": {},
   "source": [
    "## 成员运算符\n",
    "- 检测一个变量是否是另外一个变量的成员\n",
    "- in\n",
    "- not in"
   ]
  },
  {
   "cell_type": "code",
   "execution_count": 64,
   "metadata": {},
   "outputs": [
    {
     "name": "stdout",
     "output_type": "stream",
     "text": [
      "False\n",
      "True\n"
     ]
    }
   ],
   "source": [
    "#示例\n",
    "l=[1,2,3,4,5,6]\n",
    "a=7\n",
    "b=a in l\n",
    "print(b)\n",
    "b=a not in l\n",
    "print(b)"
   ]
  },
  {
   "cell_type": "markdown",
   "metadata": {},
   "source": [
    "## 身份运算\n",
    "- 用来检测两个变量是否是同一个变量\n",
    "- is语法var1 is var2\n",
    "- is not不是"
   ]
  },
  {
   "cell_type": "code",
   "execution_count": 66,
   "metadata": {},
   "outputs": [
    {
     "name": "stdout",
     "output_type": "stream",
     "text": [
      "True\n",
      "False\n"
     ]
    }
   ],
   "source": [
    "a=9 \n",
    "b=9\n",
    "print(a is b)\n",
    "\n",
    "a=\"i love w\"\n",
    "b=\"i love w\"\n",
    "print(a is b)"
   ]
  },
  {
   "cell_type": "markdown",
   "metadata": {},
   "source": [
    "##运算符的优先级\n",
    "- ()具有最高优先级\n",
    "- 优先级表格（教案）\n",
    "    **  指数 (最高优先级)\n",
    "    ~ + -   按位翻转, 一元加号和减号 (最后两个的方法名为 +@ 和 -@)\n",
    "    * / % //    乘，除，取模和取整除\n",
    "    + - 加法减法\n",
    "    >> <<   右移，左移运算符\n",
    "    &   位 'AND'\n",
    "    ^ | 位运算符\n",
    "    <= < > >=   比较运算符\n",
    "    <> == !=    等于运算符\n",
    "    = %= /= //= -= += *= **=    赋值运算符\n",
    "    is is not   身份运算符\n",
    "    in not in   成员运算符\n",
    "    not or and  逻辑运算符\n"
   ]
  },
  {
   "cell_type": "markdown",
   "metadata": {},
   "source": [
    "# 程序结构\n",
    "- 顺序\n",
    "- 分支\n",
    "- 循环"
   ]
  }
 ],
 "metadata": {
  "kernelspec": {
   "display_name": "Python 3",
   "language": "python",
   "name": "python3"
  },
  "language_info": {
   "codemirror_mode": {
    "name": "ipython",
    "version": 3
   },
   "file_extension": ".py",
   "mimetype": "text/x-python",
   "name": "python",
   "nbconvert_exporter": "python",
   "pygments_lexer": "ipython3",
   "version": "3.7.0"
  }
 },
 "nbformat": 4,
 "nbformat_minor": 2
}
